{
 "cells": [
  {
   "cell_type": "markdown",
   "metadata": {},
   "source": [
    "## Import necessary libraries"
   ]
  },
  {
   "cell_type": "code",
   "execution_count": 1,
   "metadata": {},
   "outputs": [],
   "source": [
    "import pandas as pd\n",
    "import numpy as np\n",
    "import matplotlib.pyplot as plt \n",
    "import seaborn as sns\n",
    "from sklearn.cluster import KMeans \n",
    "from sklearn.preprocessing import MinMaxScaler \n",
    "import random \n",
    "from matplotlib.colors import ListedColormap"
   ]
  },
  {
   "cell_type": "markdown",
   "metadata": {},
   "source": [
    "# PART A: NEURAL NETWORK"
   ]
  },
  {
   "cell_type": "code",
   "execution_count": 2,
   "metadata": {},
   "outputs": [],
   "source": [
    "class ANN():\n",
    "    # CONSTRUCTOR OF THE ARTIFICIAL NEURAL NETWORK CLASS\n",
    "    def __init__(self, data, parameters, pattern_classes):\n",
    "        self.x = np.insert(data, 0, np.ones(data.shape[0]), axis=1) # add an extra column of 1's to account for bias = w0 \n",
    "        self.w = parameters # note that dim(w)[1] = dim(data)[1] + 1 =  dim(x)[1] due to the bias \n",
    "        self.y = pattern_classes\n",
    "        self.n_samples = self.x.shape[0]\n",
    "        self.w_change = []\n",
    "        self.mse_change = []\n",
    "        self.learning_rate = 0.01\n",
    "    \n",
    "    # SIGMOID ACTIVATION_FUNCTION\n",
    "    def activation_function(self, input):\n",
    "        return 1/(1+np.exp(-input))\n",
    "    \n",
    "    #CALCULATE VALUE OF NODE BASED ON SIGMOID WITH FORWARD PROPAGATION\n",
    "    def forward_propagation(self):\n",
    "        y_hat = self.activation_function(np.dot(self.x,np.transpose(self.w)))\n",
    "        return y_hat\n",
    "    \n",
    "    #CALCULATE VALUE OF NODE BASED ON SIGMOID WITH BACK PROPAGATION\n",
    "    def back_propagation(self):\n",
    "        y_hat = self.forward_propagation()\n",
    "        loss = np.square((self.y - y_hat))\n",
    "        update = (-2)*np.dot(np.transpose((self.y-y_hat)*y_hat*(1-y_hat)),self.x)\n",
    "        return update\n",
    "    \n",
    "    #CALCULATE MEAN SQUARED ERROR USING FORWARD PROPAGATION \n",
    "    def calculate_mse(self): \n",
    "        y_hat = self.forward_propagation()\n",
    "        mse = np.sum(np.square(self.y-y_hat))*1/self.n_samples\n",
    "        return mse\n",
    "    \n",
    "    #UPDATE WEIGHT OF THE NETWORK AFTER BACK PROPAGATION\n",
    "    def update_weight(self):\n",
    "        self.w = self.w - self.learning_rate*self.back_propagation()\n",
    "        self.w_change.append(self.w)\n",
    "        self.mse_change.append(self.calculate_mse())\n",
    "        \n",
    "    #CHECK IF THERE IS ANY CHANGES IN THE VALUE OF THE NODES\n",
    "    def converged(self):\n",
    "        gradient = self.back_propagation()\n",
    "        new_w = self.w - self.learning_rate*gradient\n",
    "        return np.array_equiv(self.w, new_w)\n",
    "    \n",
    "    #ITERATE THE NETWORK\n",
    "    def train(self):\n",
    "        i = 0\n",
    "        while (i <= 10):\n",
    "            self.update_weight()\n",
    "            i = i+1\n",
    "        return self.w_change\n",
    "        "
   ]
  },
  {
   "cell_type": "markdown",
   "metadata": {},
   "source": [
    "# PART B: CALCULATE MEAN SQUARED ERROR\n",
    "   data: data of vectors\n",
    "   \n",
    "   parameters: set of weights that is fitted into the neural network\n",
    "   \n",
    "   pattern_classes: 0/1 classification array that classifies data in type 0 or type 1"
   ]
  },
  {
   "cell_type": "code",
   "execution_count": 3,
   "metadata": {},
   "outputs": [],
   "source": [
    "def find_mean_squared(data, parameters, pattern_classes):\n",
    "    nn = ANN(data, parameters, pattern_classes)\n",
    "    res = nn.calculate_mse()\n",
    "    return res"
   ]
  },
  {
   "cell_type": "markdown",
   "metadata": {},
   "source": [
    "read data from the csv file"
   ]
  },
  {
   "cell_type": "code",
   "execution_count": 4,
   "metadata": {},
   "outputs": [
    {
     "name": "stdout",
     "output_type": "stream",
     "text": [
      "0.25\n"
     ]
    }
   ],
   "source": [
    "iris = pd.read_csv(\".\\data\\IRIS.csv\")\n",
    "data = iris[iris['species'].isin([\"Iris-versicolor\", \"Iris-virginica\"])].iloc[:, 2:4].values \n",
    "label_column = iris[iris['species'].isin([\"Iris-versicolor\", \"Iris-virginica\"])].iloc[:, [4]].values\n",
    "pattern_classes = np.where(label_column == 'Iris-versicolor', 1, 0)\n",
    "param = np.zeros((1,data.shape[1]+1))\n",
    "print(find_mean_squared(data, param, pattern_classes))"
   ]
  },
  {
   "cell_type": "markdown",
   "metadata": {},
   "source": [
    "## Calculate mean squared error and plot decision boundary for weight = 0"
   ]
  },
  {
   "cell_type": "markdown",
   "metadata": {},
   "source": [
    "### weight "
   ]
  },
  {
   "cell_type": "code",
   "execution_count": 5,
   "metadata": {},
   "outputs": [],
   "source": [
    "w0 = np.zeros((1,data.shape[1]+1))\n",
    "nn_0 = ANN(data, w0, pattern_classes)\n",
    "mse_0 = find_mean_squared(data, w0, pattern_classes)\n",
    "y_hat = nn_0.forward_propagation()"
   ]
  },
  {
   "cell_type": "markdown",
   "metadata": {},
   "source": [
    "### plot "
   ]
  },
  {
   "cell_type": "code",
   "execution_count": 6,
   "metadata": {},
   "outputs": [],
   "source": [
    "def calculate_centroids():\n",
    "    cluster_0 = []\n",
    "    cluster_1 = []\n",
    "\n",
    "    classifier = []\n",
    "\n",
    "    for i in range(y_hat.shape[0]):\n",
    "        if (y_hat[i] > 1/2):\n",
    "            cluster_1.append(data[i])\n",
    "            classifier.append(1)\n",
    "        else:\n",
    "            cluster_0.append(data[i])\n",
    "            classifier.append(0)\n",
    "\n",
    "    cluster_0 = np.array(cluster_0)\n",
    "    cluster_1 = np.array(cluster_1)\n",
    "    centroids_1 = np.sum(cluster_1)*1/cluster_1.shape[0] if cluster_1.shape[0] > 0 else 0\n",
    "    centroids_0 = np.sum(cluster_0)*1/cluster_0.shape[0]\n",
    "\n",
    "    return [np.array([centroids_0, centroids_1]), np.array(classifier)]"
   ]
  },
  {
   "cell_type": "code",
   "execution_count": 20,
   "metadata": {},
   "outputs": [
    {
     "data": {
      "image/png": "[encoded data removed]",
      "text/plain": [
       "<Figure size 640x480 with 1 Axes>"
      ]
     },
     "metadata": {},
     "output_type": "display_data"
    }
   ],
   "source": [
    "def plot_decision_boundaries(): \n",
    "    centroids = calculate_centroids()[0]\n",
    "    classifier = calculate_centroids()[1]\n",
    "\n",
    "    # Plot the clusters\n",
    "    x_min, x_max = data[:, 0].min()-1, data[:, 0].max()+1\n",
    "    y_min, y_max = data[:, 1].min()-1, data[:, 1].max()+1\n",
    "    xx, yy = np.meshgrid(np.arange(x_min, x_max, 0.1), np.arange(y_min, y_max, 0.1))\n",
    "    assign_grid = np.zeros(xx.shape)\n",
    "    \n",
    "    for x in range(assign_grid.shape[0]):\n",
    "        for y in range(assign_grid.shape[1]):\n",
    "            assign_grid[x][y] = -1\n",
    "            min_dist = float('inf') \n",
    "            for k in range(centroids.shape[0]):\n",
    "                centroid = centroids[k]\n",
    "                distance_to_k = np.sum(np.square(np.subtract(np.array([xx[x][y], yy[x][y]]), centroid)))\n",
    "                if distance_to_k < min_dist:\n",
    "                        min_dist = distance_to_k\n",
    "                        assign_grid[x][y] = k\n",
    "\n",
    "    cmap = ListedColormap(['#FFAAAA', '#AAFFAA', '#AAAAFF'])\n",
    "    pcmap = ListedColormap(['yellow', 'green', 'blue'])\n",
    "\n",
    "    plt.contourf(xx, yy, assign_grid, cmap=cmap, alpha=.8)\n",
    "    plt.scatter(data[:, 0], data[:, 1], c = classifier, cmap=pcmap, s = 5)\n",
    "    plt.show()\n",
    "\n",
    "plot_decision_boundaries()\n",
    "\n",
    "\n"
   ]
  },
  {
   "cell_type": "markdown",
   "metadata": {},
   "source": [
    "## Calculate mean squared error and plot decision boundary for weight in range -1 and 1 "
   ]
  },
  {
   "cell_type": "markdown",
   "metadata": {},
   "source": [
    "### weight"
   ]
  },
  {
   "cell_type": "code",
   "execution_count": 8,
   "metadata": {},
   "outputs": [],
   "source": [
    "w1 = []\n",
    "for i in range(data.shape[1]+1):\n",
    "    w1.append(random.uniform(-1,1))\n",
    "w1 = np.array(w1)\n",
    "nn_1 = ANN(data, w1, pattern_classes)\n",
    "mse_1 = find_mean_squared(data, w1, pattern_classes)\n",
    "\n",
    "y_hat = nn_1.forward_propagation()"
   ]
  },
  {
   "cell_type": "markdown",
   "metadata": {},
   "source": [
    "### plot"
   ]
  },
  {
   "cell_type": "code",
   "execution_count": 12,
   "metadata": {},
   "outputs": [],
   "source": [
    "w1 = []\n",
    "for i in range(data.shape[1]+1):\n",
    "    w1.append(random.uniform(-1,1))\n",
    "w1 = np.array(w1)\n",
    "nn_1 = ANN(data, w1, pattern_classes)\n",
    "mse_1 = find_mean_squared(data, w1, pattern_classes)\n",
    "\n",
    "y_hat = nn_1.forward_propagation()\n",
    "\n",
    "def calculate_centroids():\n",
    "    cluster_0 = []\n",
    "    cluster_1 = []\n",
    "\n",
    "    classifier = []\n",
    "\n",
    "    for i in range(y_hat.shape[0]):\n",
    "        if (y_hat[i] > 1/2):\n",
    "            cluster_1.append(data[i])\n",
    "            classifier.append(1)\n",
    "        else:\n",
    "            cluster_0.append(data[i])\n",
    "            classifier.append(0)\n",
    "\n",
    "    cluster_0 = np.array(cluster_0)\n",
    "    cluster_1 = np.array(cluster_1)\n",
    "\n",
    "    centroids_0 = np.sum(cluster_0)*1/cluster_0.shape[0]\n",
    "    centroids_1 = np.sum(cluster_1)*1/cluster_1.shape[0] if cluster_1.shape[0] > 0 else 0\n",
    "\n",
    "\n",
    "    return [np.array([centroids_0, centroids_1]), np.array(classifier)]\n",
    "\n"
   ]
  },
  {
   "cell_type": "code",
   "execution_count": 21,
   "metadata": {},
   "outputs": [
    {
     "data": {
      "image/png": "[encoded data removed]",
      "text/plain": [
       "<Figure size 640x480 with 1 Axes>"
      ]
     },
     "metadata": {},
     "output_type": "display_data"
    }
   ],
   "source": [
    "def plot_decision_boundaries():\n",
    "    centroids = calculate_centroids()[0]\n",
    "    classifier = calculate_centroids()[1]\n",
    "\n",
    "    # Plot the clusters\n",
    "    x_min, x_max = data[:, 0].min()-1, data[:, 0].max()+1\n",
    "    y_min, y_max = data[:, 1].min()-1, data[:, 1].max()+1\n",
    "    xx, yy = np.meshgrid(np.arange(x_min, x_max, 0.1), np.arange(y_min, y_max, 0.1))\n",
    "    assign_grid = np.zeros(xx.shape)\n",
    "    \n",
    "    for x in range(assign_grid.shape[0]):\n",
    "        for y in range(assign_grid.shape[1]):\n",
    "            assign_grid[x][y] = -1\n",
    "            min_dist = float('inf') \n",
    "            for k in range(centroids.shape[0]):\n",
    "                centroid = centroids[k]\n",
    "                distance_to_k = np.sum(np.square(np.subtract(np.array([xx[x][y], yy[x][y]]), centroid)))\n",
    "                if distance_to_k < min_dist:\n",
    "                        min_dist = distance_to_k\n",
    "                        assign_grid[x][y] = k\n",
    "\n",
    "    cmap = ListedColormap(['#FFAAAA', '#AAFFAA', '#AAAAFF'])\n",
    "    pcmap = ListedColormap(['yellow', 'green', 'blue'])\n",
    "\n",
    "    plt.contourf(xx, yy, assign_grid, cmap=cmap, alpha=.8)\n",
    "    plt.scatter(data[:, 0], data[:, 1], c = classifier, cmap=pcmap, s = 5)\n",
    "    plt.show()\n",
    "\n",
    "plot_decision_boundaries()\n",
    "\n"
   ]
  },
  {
   "cell_type": "code",
   "execution_count": null,
   "metadata": {},
   "outputs": [],
   "source": []
  },
  {
   "cell_type": "code",
   "execution_count": null,
   "metadata": {},
   "outputs": [],
   "source": []
  }
 ],
 "metadata": {
  "kernelspec": {
   "display_name": "Python 3 (ipykernel)",
   "language": "python",
   "name": "python3"
  },
  "language_info": {
   "codemirror_mode": {
    "name": "ipython",
    "version": 3
   },
   "file_extension": ".py",
   "mimetype": "text/x-python",
   "name": "python",
   "nbconvert_exporter": "python",
   "pygments_lexer": "ipython3",
   "version": "3.8.10"
  }
 },
 "nbformat": 4,
 "nbformat_minor": 2
}
